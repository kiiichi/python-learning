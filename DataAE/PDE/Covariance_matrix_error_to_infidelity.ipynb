{
 "cells": [
  {
   "cell_type": "code",
   "execution_count": 15,
   "id": "0a473ba5-b14e-441b-926e-46c0c551feb4",
   "metadata": {},
   "outputs": [],
   "source": [
    "import torch\n",
    "import numpy as np\n",
    "from tqdm import tqdm\n",
    "from matplotlib import pyplot as plt\n",
    "import pandas as pd\n",
    "import numpy as np\n",
    "from scipy.linalg import sqrtm"
   ]
  },
  {
   "cell_type": "code",
   "execution_count": 16,
   "id": "bd00f994-e154-48b6-bb55-ab451b5087cb",
   "metadata": {},
   "outputs": [
    {
     "name": "stdout",
     "output_type": "stream",
     "text": [
      "cuda\n"
     ]
    }
   ],
   "source": [
    "# Choose GPU if available, otherwise fallback to CPU\n",
    "if torch.cuda.is_available():\n",
    "    DEVICE = torch.device(\"cuda\")\n",
    "else:\n",
    "    DEVICE = torch.device(\"cpu\")\n",
    "print(DEVICE)"
   ]
  },
  {
   "cell_type": "code",
   "execution_count": 45,
   "id": "a3cbbd55-1392-4abd-83e5-396fa65811e8",
   "metadata": {},
   "outputs": [],
   "source": [
    "def compute_V_aux(V1, V2):\n",
    "    n = int(len(V1) / 2)  # Number of modes (assumes square matrices of size 2n x 2n)\n",
    "    \n",
    "    # Step 1: Define the correct 12x12 symplectic matrix Omega for n=6\n",
    "    I_n = np.eye(n)  # Create the identity matrix I_n (6x6 for 6 modes)\n",
    "    \n",
    "    # Omega = [0 I_n; -I_n 0], block construction\n",
    "    Omega = np.zeros((2*n, 2*n))\n",
    "    Omega[:n, n:] = I_n  # Upper right block is I_n\n",
    "    Omega[n:, :n] = -I_n  # Lower left block is -I_n\n",
    "\n",
    "\n",
    "    # Step 4: Compute V1 + V2 and its inverse\n",
    "    V_sum = V1 + V2\n",
    "    V_inv = np.linalg.inv(V_sum)\n",
    "    \n",
    "    # Step 5: Compute the term (Ω / 4 + V2 * Ω * V1)\n",
    "    symplectic_term = 0.25 * Omega + V2 @ Omega @ V1\n",
    "    \n",
    "    # Step 6: Compute V_aux\n",
    "    V_aux = Omega.T @ V_inv @ symplectic_term\n",
    "    \n",
    "    return V_aux\n"
   ]
  },
  {
   "cell_type": "code",
   "execution_count": 50,
   "id": "8394095e-9555-4900-bf74-4979447ff06b",
   "metadata": {},
   "outputs": [],
   "source": [
    "def compute_F0(V1, V2, V_aux):\n",
    "    # Step 1: Compute V1 + V2 and its determinant (denominator)\n",
    "    V_sum = V1 + V2\n",
    "    det_V_sum = np.linalg.det(V_sum)\n",
    "    denominator = np.sqrt(np.sqrt(det_V_sum))\n",
    "    \n",
    "    # Step 2: Define Omega using Kronecker product for n modes\n",
    "    n = int(len(V1) / 2)  # Number of modes\n",
    "    # Step 1: Define the correct 12x12 symplectic matrix Omega for n=6\n",
    "    I_n = np.eye(n)  # Create the identity matrix I_n (6x6 for 6 modes)\n",
    "    \n",
    "    # Omega = [0 I_n; -I_n 0], block construction\n",
    "    Omega = np.zeros((2*n, 2*n))\n",
    "    Omega[:n, n:] = I_n  # Upper right block is I_n\n",
    "    Omega[n:, :n] = -I_n  # Lower left block is -I_n\n",
    "    \n",
    "    \n",
    "    # Step 4: Compute V_aux * Omega\n",
    "    V_aux_Omega = V_aux @ Omega\n",
    "    \n",
    "    # Step 5: Compute the inverse of V_aux * Omega\n",
    "    V_aux_Omega_inv = np.linalg.inv(V_aux_Omega)\n",
    "    \n",
    "    # Step 6: Compute the matrix term (I + (V_aux * Omega)^(-2)/4)\n",
    "    identity_matrix = np.eye(V_aux.shape[0])\n",
    "    V_aux_Omega_inv_square = V_aux_Omega_inv @ V_aux_Omega_inv\n",
    "    matrix_addition = identity_matrix + 0.25 * V_aux_Omega_inv_square\n",
    "    \n",
    "    # Step 7: Compute the matrix square root of the term\n",
    "    matrix_sqrt = sqrtm(matrix_addition)\n",
    "    \n",
    "    # Step 8: Add the identity matrix I to the matrix square root\n",
    "    matrix_sqrt_plus_identity = matrix_sqrt + identity_matrix\n",
    "    \n",
    "    # Step 9: Multiply by V_aux\n",
    "    multiplication_result = matrix_sqrt_plus_identity @ V_aux\n",
    "    \n",
    "    # Step 10: Compute the determinant of the result and raise it to the 1/4 power (nominator)\n",
    "    nominator = np.linalg.det(2 * multiplication_result) ** 0.25\n",
    "\n",
    "    # Step 11: Compute F0\n",
    "    F0 = nominator / denominator\n",
    "\n",
    "    return F0"
   ]
  },
  {
   "cell_type": "code",
   "execution_count": 51,
   "id": "a387fb2a-807a-4eea-b73e-430bfa2bcadf",
   "metadata": {},
   "outputs": [],
   "source": [
    "def fidelity(V1, mu1, V2, mu2):\n",
    "    # Step 1: Compute V_aux first (V_aux = Omega.T @ (V_1 + V_2)^(-1) @ term)\n",
    "    V_aux = compute_V_aux(V1, V2)\n",
    "    \n",
    "    # Step 2: Compute F0\n",
    "    F0 = compute_F0(V1, V2, V_aux)\n",
    "    \n",
    "    # Step 3: Compute the displacement-dependent factor (exponential part)\n",
    "    V_sum = V1 + V2\n",
    "    V_inv = np.linalg.inv(V_sum)  # Compute the inverse of (V_1 + V_2)\n",
    "    displacement_factor = np.exp(-0.25 * (mu1 - mu2).T @ V_inv @ (mu1 - mu2))  # Compute the exponential term\n",
    "    \n",
    "    # Step 4: Compute the final fidelity\n",
    "    F = F0 * displacement_factor  # Multiply F0 by the displacement-dependent factor\n",
    "    \n",
    "    return F\n"
   ]
  },
  {
   "cell_type": "code",
   "execution_count": 100,
   "id": "02183c8b-7ae4-45ea-b818-b37802f16b49",
   "metadata": {},
   "outputs": [
    {
     "name": "stdout",
     "output_type": "stream",
     "text": [
      "Fidelity between the two Gaussian states: 0.9999999999999999\n"
     ]
    }
   ],
   "source": [
    "# Example covariance matrix for state 1 (2x2)\n",
    "V1 = np.array([[2, 1], [0, 1/2]])  # Example covariance matrix for state 1\n",
    "V1 = V1 + V1.T  # Make the matrix symmetric\n",
    "\n",
    "mu1 = np.array([5, 13])  # Example mean vector for state 1\n",
    "\n",
    "# Example covariance matrix for state 2 (2x2)\n",
    "V2 = np.array([[2, 1], [0, 1/2]])  # Example covariance matrix for state 2\n",
    "V2 = V2 + V2.T  # Make the matrix symmetric\n",
    "\n",
    "mu2 = np.array([5, 13])  # Example mean vector for state 2\n",
    "\n",
    "# Compute fidelity for the system\n",
    "fidelity_value = compute_fidelity(V1, mu1, V2, mu2)\n",
    "print(\"Fidelity between the two Gaussian states:\", fidelity_value)"
   ]
  },
  {
   "cell_type": "code",
   "execution_count": 99,
   "id": "3864ba28-e3d6-4f1b-90e6-4cebc3e54f9c",
   "metadata": {},
   "outputs": [
    {
     "name": "stdout",
     "output_type": "stream",
     "text": [
      "Fidelity between the two Gaussian states: 1.0\n"
     ]
    }
   ],
   "source": [
    "# Covariance matrix for state 1 (4x4)\n",
    "V1 = np.array([[2, 1, 0, 0], [1, 2, 0, 0], [0, 0, 2, 1], [0, 0, 1, 2]])  # Example covariance matrix for state 1\n",
    "V1 = V1 + V1.T  # Make the matrix symmetric\n",
    "\n",
    "mu1 = np.array([5, 13, 5, 13])  # Example mean vector for state 1\n",
    "\n",
    "# Covariance matrix for state 2 (4x4)\n",
    "V2 = np.array([[2, 1, 0, 0], [1, 2, 0, 0], [0, 0, 2, 1], [0, 0, 1, 2]])  # Example covariance matrix for state 2\n",
    "V2 = V2 + V2.T  # Make the matrix symmetric\n",
    "\n",
    "mu2 = np.array([5, 13, 5, 13])  # Example mean vector for state 2\n",
    "\n",
    "# Compute fidelity for the system\n",
    "fidelity_value = compute_fidelity(V1, mu1, V2, mu2)\n",
    "print(\"Fidelity between the two Gaussian states:\", fidelity_value)"
   ]
  },
  {
   "cell_type": "code",
   "execution_count": null,
   "id": "7586434d-76e2-4278-8065-223bb2f6246a",
   "metadata": {},
   "outputs": [],
   "source": []
  }
 ],
 "metadata": {
  "kernelspec": {
   "display_name": "Python 3 (ipykernel)",
   "language": "python",
   "name": "python3"
  },
  "language_info": {
   "codemirror_mode": {
    "name": "ipython",
    "version": 3
   },
   "file_extension": ".py",
   "mimetype": "text/x-python",
   "name": "python",
   "nbconvert_exporter": "python",
   "pygments_lexer": "ipython3",
   "version": "3.11.5"
  }
 },
 "nbformat": 4,
 "nbformat_minor": 5
}
