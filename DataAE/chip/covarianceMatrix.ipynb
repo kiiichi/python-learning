{
 "cells": [
  {
   "cell_type": "code",
   "execution_count": 1,
   "id": "fe96bebb",
   "metadata": {},
   "outputs": [],
   "source": [
    "import numpy as np\n",
    "import scipy.linalg\n",
    "import strawberryfields as sf"
   ]
  },
  {
   "cell_type": "code",
   "execution_count": 7,
   "id": "e58585fb",
   "metadata": {},
   "outputs": [
    {
     "name": "stdout",
     "output_type": "stream",
     "text": [
      "Raw data:\n",
      "[[ 0.21502155  0.29419381  0.88441646 -0.05532793]\n",
      " [ 0.29419381 -0.82527172  0.48230041  0.06544884]\n",
      " [ 0.88441646  0.48230041  1.71739653 -0.6205575 ]\n",
      " [-0.05532793  0.06544884 -0.6205575  -1.3754383 ]]\n",
      "Covariance matrix (xxpp):\n",
      "[[ 0.21502155  0.45222199 -0.16358517  0.55254441]\n",
      " [ 0.45222199 -0.82527172 -0.2049122   2.3316077 ]\n",
      " [-0.16358517 -0.2049122   1.71739653 -0.48125787]\n",
      " [ 0.55254441  2.3316077  -0.48125787 -1.3754383 ]]\n"
     ]
    }
   ],
   "source": [
    "# Raw data\n",
    "r11 = np.random.normal(0, 1)\n",
    "r12 = np.random.normal(0, 1)\n",
    "r13 = np.random.normal(0, 1)\n",
    "r14 = np.random.normal(0, 1)\n",
    "r22 = np.random.normal(0, 1)\n",
    "r23 = np.random.normal(0, 1)\n",
    "r24 = np.random.normal(0, 1)\n",
    "r33 = np.random.normal(0, 1)\n",
    "r34 = np.random.normal(0, 1)\n",
    "r44 = np.random.normal(0, 1)\n",
    "r = np.array([[r11, r12, r13, r14],\n",
    "              [r12, r22, r23, r24],\n",
    "              [r13, r23, r33, r34],\n",
    "              [r14, r24, r34, r44]])\n",
    "print(\"Raw data:\")\n",
    "print(r)\n",
    "v11, v22, v33, v44 = r11, r22, r33, r44\n",
    "v12 = (r12 - r11 - r22)/2\n",
    "v14 = (r14 - r11 - r44)/2\n",
    "v23 = (r23 - r22 - r33)/2\n",
    "v34 = (r34 - r33 - r44)/2\n",
    "v13 = 2 * r13 - r11 - r33\n",
    "v24 = 2 * r24 - r22 - r44\n",
    "v = np.array([[v11, v12, v13, v14],\n",
    "              [v12, v22, v23, v24],\n",
    "              [v13, v23, v33, v34],\n",
    "              [v14, v24, v34, v44]])\n",
    "print(\"Covariance matrix (xxpp):\")\n",
    "print(v)"
   ]
  },
  {
   "cell_type": "code",
   "execution_count": null,
   "id": "703a6f18",
   "metadata": {},
   "outputs": [],
   "source": []
  }
 ],
 "metadata": {
  "kernelspec": {
   "display_name": ".venv",
   "language": "python",
   "name": "python3"
  },
  "language_info": {
   "codemirror_mode": {
    "name": "ipython",
    "version": 3
   },
   "file_extension": ".py",
   "mimetype": "text/x-python",
   "name": "python",
   "nbconvert_exporter": "python",
   "pygments_lexer": "ipython3",
   "version": "3.11.0"
  }
 },
 "nbformat": 4,
 "nbformat_minor": 5
}
