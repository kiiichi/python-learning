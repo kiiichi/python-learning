{
 "cells": [
  {
   "cell_type": "code",
   "execution_count": 1,
   "metadata": {},
   "outputs": [],
   "source": [
    "import pandas as pd\n",
    "import numpy as np\n",
    "import matplotlib.pyplot as plt\n",
    "from scipy.signal import welch\n",
    "import pyvisa as visa\n",
    "from keysight_osc import key_ask_data\n",
    "import tkinter as tk\n",
    "from tkinter import filedialog\n",
    "import csv\n",
    "import time"
   ]
  },
  {
   "cell_type": "code",
   "execution_count": 2,
   "metadata": {},
   "outputs": [
    {
     "name": "stdout",
     "output_type": "stream",
     "text": [
      "KEYSIGHT TECHNOLOGIES,HD304MSO,MY64280181,10.05.2024100325\n",
      "\n",
      "1\n",
      "\n",
      "Memory depth: 100000000\n",
      "Sampling rate set: 1000.0 kHz\n",
      "Sampling rate: 10000.0 kHz\n"
     ]
    }
   ],
   "source": [
    "# Dedault oscilloscope\n",
    "sampling_time = 100#s\n",
    "memory_depth = \"100000000\"\n",
    "oscilloscope_address = 'TCPIP0::192.168.1.36::inst0::INSTR'\n",
    "rm = visa.ResourceManager()\n",
    "oscilloscope = rm.open_resource(oscilloscope_address)\n",
    "print(oscilloscope.query('*IDN?'))\n",
    "oscilloscope.chunk_size = 1024 * 1024\n",
    "time.sleep(1)\n",
    "oscilloscope.write(f':ACQuire:DIGitizer 1')\n",
    "print(oscilloscope.query(':ACQuire:DIGitizer?'))\n",
    "oscilloscope.write(f':ACQ:POINts {memory_depth}')\n",
    "memory_depth1= int(float(oscilloscope.query(':ACQuire:POINts?')))\n",
    "print(f'Memory depth: {memory_depth1}')\n",
    "sampling_rate1 = memory_depth1/sampling_time\n",
    "print(f'Sampling rate set: {sampling_rate1/1000} kHz')\n",
    "oscilloscope.write(f':ACQuire:SRATe {sampling_rate1}')#sampling_rate\n",
    "time.sleep(1)\n",
    "oscilloscope.write(f':TIMebase:MAIN:SCALe {sampling_time/10}')\n",
    "oscilloscope.write(f':TIMebase:MAIN:POSition {sampling_time/2}')\n",
    "oscilloscope.write(':SINGle')\n",
    "\n",
    "# oscilloscope.close()\n",
    "\n",
    "sampling_rate = int(float(oscilloscope.query(':ACQuire:SRATe:ANALog?')))\n",
    "print(f'Sampling rate: {sampling_rate/1000} kHz')"
   ]
  },
  {
   "cell_type": "code",
   "execution_count": 3,
   "metadata": {},
   "outputs": [
    {
     "data": {
      "text/plain": [
       "9"
      ]
     },
     "execution_count": 3,
     "metadata": {},
     "output_type": "execute_result"
    }
   ],
   "source": [
    "oscilloscope.write(':TFORce')"
   ]
  },
  {
   "cell_type": "code",
   "execution_count": 8,
   "metadata": {},
   "outputs": [],
   "source": [
    "# Parameters\n",
    "split_num = 1 # also is average number\n",
    "window_seg_number = 500 # number of segments in each window 2000\n",
    "# sampling_rate = 1000000 # Sa/s\n",
    "zohms = 50"
   ]
  },
  {
   "cell_type": "code",
   "execution_count": 9,
   "metadata": {},
   "outputs": [
    {
     "name": "stdout",
     "output_type": "stream",
     "text": [
      "('ASRL1::INSTR', 'ASRL3::INSTR', 'ASRL4::INSTR', 'ASRL5::INSTR')\n",
      "KEYSIGHT TECHNOLOGIES,HD304MSO,MY64280181,10.05.2024100325\n",
      "\n",
      "BYTeorder:LSBF\n",
      "\n",
      "voltage range : +1.60E+00\n",
      "\n",
      "['+1', '+0', '+100000000', '+1', '+1.00000000E-07', '+0.00000000E+00', '+0', '+4.88281257E-05', '+2.99999993E-02', '+32768\\n']\n",
      "Getting data from Channel 1...\n",
      "WORD\n",
      "\n",
      "Data from Channel 1 Done\n",
      "\n",
      "OSC operation Done\n",
      "\n"
     ]
    }
   ],
   "source": [
    "# # Get rawdata1\n",
    "\n",
    "# oscilloscope.close()\n",
    "rawdata1 = key_ask_data([1], memory_depth , time_colume=False) #Squf\n",
    "# rawdata1 = key_ask_data([1], memory_depth, \"keysight_l1l2_2\", time_colume=True) #Squ\n",
    "signal1 = rawdata1[0] #Squ\n",
    "split_size = len(signal1) // split_num\n",
    "signal1_split = np.array_split(signal1[:split_size*split_num], split_num)\n",
    "# Welch's method for signal1\n",
    "Pxx_avg_seg1 = []\n",
    "for i in range(split_num):\n",
    "    f1, Pxx_avg_seg1_ = welch(signal1_split[i], fs=sampling_rate, window='boxcar', nperseg=len(signal1_split[i])//window_seg_number, noverlap=None, scaling='spectrum')\n",
    "    \"\"\"\n",
    "    window can be one of the following:\n",
    "        - boxcar\n",
    "        - triang\n",
    "        - blackman\n",
    "        - hamming\n",
    "        - hann\n",
    "        - bartlett\n",
    "        - flattop\n",
    "        - parzen\n",
    "        - bohman\n",
    "        - blackmanharris\n",
    "        - nuttall\n",
    "        - barthann\n",
    "        - cosine\n",
    "        - exponential\n",
    "        - tukey\n",
    "        - taylor\n",
    "        - lanczos\n",
    "    When window is boxcar, window_seg_number is 1, and noverlap is None, the result is equivalent to `scipy.signal.periodogram`.\n",
    "    \"\"\"\n",
    "    Pxx_avg_seg1.append(Pxx_avg_seg1_)\n",
    "Pxx_avg1 = np.mean(Pxx_avg_seg1, axis=0)\n",
    "Pxx_avg1 = 10 * np.log10(Pxx_avg1 / zohms) + 30\n"
   ]
  },
  {
   "cell_type": "code",
   "execution_count": null,
   "metadata": {},
   "outputs": [],
   "source": [
    "# Get rawdata2\n",
    "# if oscilloscope.query(':TRIGger:STATus?') == 'STOP\\n':\n",
    "rawdata2 = key_ask_data([1], memory_depth, time_colume=False) #Antisqu\n",
    "signal2 = rawdata2[0] #Antisqu\n",
    "signal2_split = np.array_split(signal2[:split_size*split_num], split_num)\n",
    "# Welch's method for signal2\n",
    "Pxx_avg_seg2 = []\n",
    "for i in range(split_num):\n",
    "    f2, Pxx_avg_seg2_ = welch(signal2_split[i], fs=sampling_rate, window='boxcar', nperseg=len(signal2_split[i])//window_seg_number, noverlap=None, scaling='spectrum')\n",
    "    Pxx_avg_seg2.append(Pxx_avg_seg2_)\n",
    "Pxx_avg2 = np.mean(Pxx_avg_seg2, axis=0)\n",
    "Pxx_avg2 = 10 * np.log10(Pxx_avg2 / zohms) + 30"
   ]
  },
  {
   "cell_type": "code",
   "execution_count": null,
   "metadata": {},
   "outputs": [],
   "source": [
    "# Get rawdata3\n",
    "# if oscilloscope.query(':TRIGger:STATus?') == 'STOP\\n':\n",
    "rawdata3 = key_ask_data([4], memory_depth, time_colume=False) #SNL\n",
    "signal3 = rawdata3[0] #SNL\n",
    "signal3_split = np.array_split(signal3[:split_size*split_num], split_num)\n",
    "# Welch's method for signal3\n",
    "Pxx_avg_seg3 = []\n",
    "for i in range(split_num):\n",
    "    f3, Pxx_avg_seg3_ = welch(signal3_split[i], fs=sampling_rate, window='boxcar', nperseg=len(signal3_split[i])//window_seg_number, noverlap=None, scaling='spectrum')\n",
    "    Pxx_avg_seg3.append(Pxx_avg_seg3_)\n",
    "Pxx_avg3 = np.mean(Pxx_avg_seg3, axis=0)\n",
    "Pxx_avg3 = 10 * np.log10(Pxx_avg3 / zohms) + 30\n"
   ]
  },
  {
   "cell_type": "code",
   "execution_count": null,
   "metadata": {},
   "outputs": [],
   "source": [
    "# # Get rawdata4\n",
    "# if oscilloscope.query(':TRIGger:STATus?') == 'STOP\\n':\n",
    "rawdata4 = key_ask_data([4], memory_depth, time_colume=False) #SNL\n",
    "signal4 = rawdata4[0] #SNL\n",
    "signal4_split = np.array_split(signal4[:split_size*split_num], split_num)\n",
    "# Welch's method for signal4\n",
    "Pxx_avg_seg4 = []\n",
    "for i in range(split_num):\n",
    "    f4, Pxx_avg_seg4_ = welch(signal4_split[i], fs=sampling_rate, window='boxcar', nperseg=len(signal4_split[i])//window_seg_number, noverlap=None, scaling='spectrum')\n",
    "    Pxx_avg_seg4.append(Pxx_avg_seg4_)\n",
    "Pxx_avg4 = np.mean(Pxx_avg_seg4, axis=0)\n",
    "Pxx_avg4 = 10 * np.log10(Pxx_avg4 / zohms) + 30\n"
   ]
  },
  {
   "cell_type": "code",
   "execution_count": null,
   "metadata": {},
   "outputs": [],
   "source": [
    "# Get rawdata5\n",
    "# if oscilloscope.query(':TRIGger:STATus?') == 'STOP\\n':\n",
    "rawdata5 = key_ask_data([4], memory_depth, time_colume=False) \n",
    "signal5 = rawdata5[0] \n",
    "signal5_split = np.array_split(signal5[:split_size*split_num], split_num)\n",
    "# Welch's method for signal5\n",
    "Pxx_avg_seg5 = []\n",
    "for i in range(split_num):\n",
    "    f5, Pxx_avg_seg5_ = welch(signal5_split[i], fs=sampling_rate, window='boxcar', nperseg=len(signal5_split[i])//window_seg_number, noverlap=None, scaling='spectrum')\n",
    "    Pxx_avg_seg5.append(Pxx_avg_seg5_)\n",
    "Pxx_avg5 = np.mean(Pxx_avg_seg5, axis=0)\n",
    "Pxx_avg5 = 10 * np.log10(Pxx_avg5 / zohms) + 30\n"
   ]
  },
  {
   "cell_type": "code",
   "execution_count": null,
   "metadata": {},
   "outputs": [],
   "source": [
    "# Get rawdata6\n",
    "# if oscilloscope.query(':TRIGger:STATus?') == 'STOP\\n':\n",
    "rawdata6 = key_ask_data([4], memory_depth, time_colume=False) \n",
    "signal6 = rawdata6[0] \n",
    "signal6_split = np.array_split(signal6[:split_size*split_num], split_num)\n",
    "# Welch's method for signal6\n",
    "Pxx_avg_seg6 = []\n",
    "for i in range(split_num):\n",
    "    f6, Pxx_avg_seg6_ = welch(signal6_split[i], fs=sampling_rate, window='boxcar', nperseg=len(signal6_split[i])//window_seg_number, noverlap=None, scaling='spectrum')\n",
    "    Pxx_avg_seg6.append(Pxx_avg_seg6_)\n",
    "Pxx_avg6 = np.mean(Pxx_avg_seg6, axis=0)\n",
    "Pxx_avg6 = 10 * np.log10(Pxx_avg6 / zohms) + 30\n"
   ]
  },
  {
   "cell_type": "code",
   "execution_count": null,
   "metadata": {},
   "outputs": [],
   "source": [
    "# Get rawdata7\n",
    "# if oscilloscope.query(':TRIGger:STATus?') == 'STOP\\n':\n",
    "rawdata7 = key_ask_data([4], memory_depth, time_colume=False) \n",
    "signal7 = rawdata7[0] \n",
    "signal7_split = np.array_split(signal7[:split_size*split_num], split_num)\n",
    "# Welch's method for signal7\n",
    "Pxx_avg_seg7 = []\n",
    "for i in range(split_num):\n",
    "    f7, Pxx_avg_seg7_ = welch(signal7_split[i], fs=sampling_rate, window='boxcar', nperseg=len(signal7_split[i])//window_seg_number, noverlap=None, scaling='spectrum')\n",
    "    Pxx_avg_seg7.append(Pxx_avg_seg7_)\n",
    "Pxx_avg7 = np.mean(Pxx_avg_seg7, axis=0)\n",
    "Pxx_avg7 = 10 * np.log10(Pxx_avg7 / zohms) + 30\n"
   ]
  },
  {
   "cell_type": "code",
   "execution_count": null,
   "metadata": {},
   "outputs": [],
   "source": [
    "# Get rawdata8\n",
    "# if oscilloscope.query(':TRIGger:STATus?') == 'STOP\\n':\n",
    "rawdata8 = key_ask_data([4], memory_depth, time_colume=False) \n",
    "signal8 = rawdata8[0] \n",
    "signal8_split = np.array_split(signal8[:split_size*split_num], split_num)\n",
    "# Welch's method for signal8\n",
    "Pxx_avg_seg8 = []\n",
    "for i in range(split_num):\n",
    "    f8, Pxx_avg_seg8_ = welch(signal8_split[i], fs=sampling_rate, window='boxcar', nperseg=len(signal8_split[i])//window_seg_number, noverlap=None, scaling='spectrum')\n",
    "    Pxx_avg_seg8.append(Pxx_avg_seg8_)\n",
    "Pxx_avg8 = np.mean(Pxx_avg_seg8, axis=0)\n",
    "Pxx_avg8 = 10 * np.log10(Pxx_avg8 / zohms) + 30\n"
   ]
  },
  {
   "cell_type": "code",
   "execution_count": null,
   "metadata": {},
   "outputs": [],
   "source": [
    "# Get rawdata9\n",
    "# if oscilloscope.query(':TRIGger:STATus?') == 'STOP\\n':\n",
    "rawdata9 = key_ask_data([4], memory_depth, time_colume=False) \n",
    "signal9 = rawdata9[0] \n",
    "signal9_split = np.array_split(signal9[:split_size*split_num], split_num)\n",
    "# Welch's method for signal9\n",
    "Pxx_avg_seg9 = []\n",
    "for i in range(split_num):\n",
    "    f9, Pxx_avg_seg9_ = welch(signal9_split[i], fs=sampling_rate, window='boxcar', nperseg=len(signal9_split[i])//window_seg_number, noverlap=None, scaling='spectrum')\n",
    "    Pxx_avg_seg9.append(Pxx_avg_seg9_)\n",
    "Pxx_avg9 = np.mean(Pxx_avg_seg9, axis=0)\n",
    "Pxx_avg9 = 10 * np.log10(Pxx_avg9 / zohms) + 30\n"
   ]
  },
  {
   "cell_type": "code",
   "execution_count": null,
   "metadata": {},
   "outputs": [],
   "source": [
    "Pxx_avg2 = Pxx_avg1\n",
    "# Pxx_avg2 = Pxx_avg4\n",
    "# Pxx_avg4 = Pxx_avg5"
   ]
  },
  {
   "cell_type": "code",
   "execution_count": null,
   "metadata": {},
   "outputs": [],
   "source": [
    "signal3_split = signal7_split\n",
    "# Welch's method for signal5\n",
    "Pxx_avg_seg3 = []\n",
    "for i in range(split_num):\n",
    "    f3, Pxx_avg_seg3_ = welch(signal3_split[i], fs=sampling_rate, window='boxcar', nperseg=2, noverlap=None, scaling='spectrum')\n",
    "    Pxx_avg_seg3.append(Pxx_avg_seg3_)\n",
    "Pxx_avg3 = np.mean(Pxx_avg_seg3, axis=0)\n",
    "Pxx_avg3 = 10 * np.log10(Pxx_avg3 / zohms) + 30\n",
    "\n",
    "signal4_split = signal8_split\n",
    "Pxx_avg_seg4 = []\n",
    "for i in range(split_num):\n",
    "    f4, Pxx_avg_seg4_ = welch(signal4_split[i], fs=sampling_rate, window='boxcar', nperseg=2, noverlap=None, scaling='spectrum')\n",
    "    Pxx_avg_seg4.append(Pxx_avg_seg4_)\n",
    "Pxx_avg4 = np.mean(Pxx_avg_seg4, axis=0)\n",
    "Pxx_avg4 = 10 * np.log10(Pxx_avg4 / zohms) + 30\n",
    "\n",
    "signal5_split = signal9_split\n",
    "Pxx_avg_seg5 = []\n",
    "for i in range(split_num):\n",
    "    f5, Pxx_avg_seg5_ = welch(signal5_split[i], fs=sampling_rate, window='boxcar', nperseg=2, noverlap=None, scaling='spectrum')\n",
    "    Pxx_avg_seg5.append(Pxx_avg_seg5_)\n",
    "Pxx_avg5 = np.mean(Pxx_avg_seg5, axis=0)\n",
    "Pxx_avg5 = 10 * np.log10(Pxx_avg5 / zohms) + 30\n",
    "\n",
    "\n"
   ]
  },
  {
   "cell_type": "code",
   "execution_count": null,
   "metadata": {},
   "outputs": [],
   "source": [
    "# Plot\n",
    "print(f'Sampling rate: {sampling_rate/1000} kHz')\n",
    "yrange = 60\n",
    "yref = -70\n",
    "plt.figure(figsize=(10, 6))\n",
    "plt.plot(f1, Pxx_avg1, label='data1')\n",
    "# plt.plot(f2, Pxx_avg2, label='data2')\n",
    "# plt.plot(f3, Pxx_avg3, label='data3')\n",
    "# plt.plot(f4, Pxx_avg4, label='data4')\n",
    "# plt.plot(f5, Pxx_avg5, label='data5')\n",
    "# plt.plot(f6, Pxx_avg6, label='data6')\n",
    "# plt.plot(f7, Pxx_avg7, label='data7 1000')\n",
    "# plt.plot(f8, Pxx_avg8, label='data8 100')\n",
    "# plt.plot(f9, Pxx_avg9, label='data9 200')\n",
    "plt.title('Power Spectral Estimation')\n",
    "plt.xlabel('Frequency (Hz)')\n",
    "plt.ylabel('Power (dBm)')\n",
    "# plt.xlim(0,50000)\n",
    "plt.ylim(yref-yrange/2, yref+yrange/2)\n",
    "plt.legend()\n",
    "plt.grid(True)\n",
    "plt.show()\n"
   ]
  },
  {
   "cell_type": "markdown",
   "metadata": {},
   "source": [
    "/频域输出保存/"
   ]
  },
  {
   "cell_type": "code",
   "execution_count": null,
   "metadata": {},
   "outputs": [],
   "source": [
    "# dataframe = pd.DataFrame({'Frequency': f1, 'squ(dBm)': Pxx_avg1, 'antisqu(dBm)': Pxx_avg2, 'SNL(dBm)': Pxx_avg3, 'Auxiliary(dBm)': Pxx_avg4})\n",
    "# dataframe = pd.DataFrame({'Frequency': f1, 'data1(dBm)': Pxx_avg1, 'data2(dBm)': Pxx_avg2, 'data3(dBm)': Pxx_avg3, 'data4(dBm)': Pxx_avg4, 'data5(dBm)': Pxx_avg5, 'data6(dBm)': Pxx_avg6, 'data7(dBm)': Pxx_avg7, 'data8(dBm)': Pxx_avg8, 'data9(dBm)': Pxx_avg9})\n",
    "# dataframe = pd.DataFrame({'Frequency': f1, 'data1(dBm)': Pxx_avg1, 'data2(dBm)': Pxx_avg2, 'data3(dBm)': Pxx_avg3, 'data4(dBm)': Pxx_avg4, 'data5(dBm)': Pxx_avg5, 'data6(dBm)': Pxx_avg6, 'data7(dBm)': Pxx_avg7, 'data8(dBm)': Pxx_avg8})\n",
    "dataframe = pd.DataFrame({'Frequency': f4, 'data4(dBm)': Pxx_avg4, 'Frequency': f5, 'data5(dBm)': Pxx_avg5, 'Frequency': f6, 'data6(dBm)': Pxx_avg6, 'Frequency': f7, 'data7(dBm)': Pxx_avg7, 'Frequency': f8, 'data8(dBm)': Pxx_avg8})\n",
    "\n",
    "dataframe.to_csv(\"../data/11.22data_10kSas.csv\", index=False, sep=',')"
   ]
  },
  {
   "cell_type": "markdown",
   "metadata": {},
   "source": [
    "/ 时域输出保存/"
   ]
  },
  {
   "cell_type": "code",
   "execution_count": null,
   "metadata": {},
   "outputs": [],
   "source": [
    "num_samples = sampling_time * sampling_rate\n",
    "preamble = oscilloscope.query(':WAV:PRE?').split(',')\n",
    "# num_samples = int(preamble[2])\n",
    "time_per_sample = 1/sampling_rate\n",
    "x_origin = float(preamble[5])\n",
    "time_array = np.array([x_origin + i * time_per_sample for i in range(num_samples)])\n",
    "# time_array1 = time_array\n",
    "# print(sampling_rate)\n",
    "# print(sampling_time)\n",
    "print(time_per_sample)\n",
    "# dataframe = pd.DataFrame({'Time': time_array, 'data1': signal1, 'data2': signal2, 'data3': signal3, 'data4': signal4, 'data5': signal5, 'data6': signal6, 'data7': signal7, 'data8': signal8, 'data9': signal9})\n",
    "# dataframe = pd.DataFrame({'Time': time_array, 'data1': signal1, 'data2': signal2, 'data3': signal3, 'data4': signal4, 'data5': signal5, 'data6': signal6, 'data7': signal7, 'data8': signal8})\n",
    "dataframe = pd.DataFrame({'Time': time_array, 'data4': signal4, 'Time': time_array, 'data5': signal5, 'Time': time_array, 'data6': signal6, 'Time': time_array, 'data7': signal7, 'Time': time_array, 'data8': signal8})\n",
    "\n",
    "dataframe.to_csv(\"../data/11.22data_10kSas_timeregion.csv\", index=False, sep=',')"
   ]
  },
  {
   "cell_type": "code",
   "execution_count": null,
   "metadata": {},
   "outputs": [],
   "source": [
    "n = len(Pxx_avg1)\n",
    "Pxx_avg4 = []\n",
    "Pxx_avg5 = []\n",
    "for i in range(n):\n",
    "    num0 = Pxx_avg1[i] - Pxx_avg3[i]\n",
    "    Pxx_avg4.append(num0)\n",
    "    num1 = Pxx_avg2[i] - Pxx_avg3[i]\n",
    "    Pxx_avg5.append(num1)\n",
    "yrange = 100\n",
    "yref = 60\n",
    "plt.figure(figsize=(10, 6))\n",
    "plt.plot(f1, Pxx_avg4, label='data1')\n",
    "plt.plot(f2, Pxx_avg5, label='data2')\n",
    "# plt.plot(f3, Pxx_avg3, label='data3')\n",
    "plt.title('Power Spectral Estimation')\n",
    "plt.xlabel('Frequency (Hz)')\n",
    "plt.ylabel('Power (dBm)')\n",
    "plt.xlim(0,5)\n",
    "plt.ylim(yref-yrange/2, yref+yrange/2)\n",
    "plt.legend()\n",
    "plt.grid(True)\n",
    "plt.show()"
   ]
  },
  {
   "cell_type": "code",
   "execution_count": null,
   "metadata": {},
   "outputs": [],
   "source": [
    "dataframe = pd.DataFrame({'Frequency': f1, 'left-double(dBm)': Pxx_avg4, 'right-double(dBm)': Pxx_avg5})\n",
    "dataframe.to_csv(\"../data/[17]_100s_100kSas_AM1Hz_CMRR_AC_coupled.csv\", index=False, sep=',')"
   ]
  },
  {
   "cell_type": "code",
   "execution_count": null,
   "metadata": {},
   "outputs": [],
   "source": [
    "# Save data\n",
    "file_name = 'test'\n",
    "preamble = oscilloscope.query(':WAV:PRE?').split(',')\n",
    "num_samples = int(preamble[2])\n",
    "time_per_sample = float(preamble[4])\n",
    "x_origin = float(preamble[5])\n",
    "time_array = np.array([x_origin + i * time_per_sample for i in range(num_samples)])\n",
    "final_data = [time_array]\n",
    "final_data.append(signal1)\n",
    "final_data.append(signal2)\n",
    "final_data.append(signal3)\n",
    "print('final_data generated. Choose a folder to save the data.')\n",
    "if file_name:\n",
    "    # choose a folder to save the data\n",
    "    root = tk.Tk()\n",
    "    root.withdraw()  # hide the root window\n",
    "    folder_path = filedialog.askdirectory()\n",
    "    # Save waveform data to a CSV file\n",
    "    print('Writing CSV...')\n",
    "    BUFFER_SIZE = 1000000  # Adjust the buffer size as needed\n",
    "    with open(f'{folder_path}/{file_name}_.csv', 'w', newline='') as csvfile:\n",
    "        writer = csv.writer(csvfile)\n",
    "        writer.writerow(['Time'] + ['signal1'] + ['signal2'] + ['signal3'])  # Write header\n",
    "        for row in zip(*final_data):  # Transpose and write\n",
    "            writer.writerow(row)\n",
    "    print('CSV writing Done')"
   ]
  },
  {
   "cell_type": "code",
   "execution_count": null,
   "metadata": {},
   "outputs": [],
   "source": [
    "# Plot\n",
    "header_rows = 0\n",
    "data1 = pd.read_csv('../data/[1]squ&antisqu&snl&antisqu&squ_100s_segnum500.csv', skiprows=header_rows)\n",
    "x = data1['Frequency']\n",
    "y1 = data1['squ(dBm)']\n",
    "y2 = data1['antisqu(dBm)']\n",
    "y3 = data1['SNL(dBm)']\n",
    "print(f'Sampling rate: {sampling_rate/1000} kHz')\n",
    "yrange = 20\n",
    "yref = -77.5\n",
    "plt.figure(figsize=(10, 6))\n",
    "plt.plot(x, y1, label='data1')\n",
    "plt.plot(x, y2, label='data2')\n",
    "plt.plot(x, y3, label='data3')\n",
    "plt.title('Power Spectral Estimation')\n",
    "plt.xlabel('Frequency (Hz)')\n",
    "plt.ylabel('Power (dBm)')\n",
    "plt.xlim(0,5000)\n",
    "plt.ylim(yref-yrange/2, yref+yrange/2)\n",
    "plt.legend()\n",
    "plt.grid(True)\n",
    "plt.show()\n"
   ]
  }
 ],
 "metadata": {
  "kernelspec": {
   "display_name": ".venv",
   "language": "python",
   "name": "python3"
  },
  "language_info": {
   "codemirror_mode": {
    "name": "ipython",
    "version": 3
   },
   "file_extension": ".py",
   "mimetype": "text/x-python",
   "name": "python",
   "nbconvert_exporter": "python",
   "pygments_lexer": "ipython3",
   "version": "3.11.3"
  }
 },
 "nbformat": 4,
 "nbformat_minor": 2
}
