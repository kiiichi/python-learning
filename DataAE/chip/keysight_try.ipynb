{
 "cells": [
  {
   "cell_type": "code",
   "execution_count": 19,
   "metadata": {},
   "outputs": [],
   "source": [
    "import csv\n",
    "import time\n",
    "import numpy as np\n",
    "import pyvisa as visa\n",
    "import tkinter as tk\n",
    "from tkinter import filedialog\n",
    "from tkinter import filedialog\n",
    "import csv\n",
    "import matplotlib.pyplot as plt"
   ]
  },
  {
   "cell_type": "code",
   "execution_count": 8,
   "metadata": {},
   "outputs": [
    {
     "name": "stdout",
     "output_type": "stream",
     "text": [
      "('ASRL1::INSTR', 'ASRL3::INSTR', 'ASRL4::INSTR', 'ASRL5::INSTR')\n",
      "KEYSIGHT TECHNOLOGIES,HD304MSO,MY64280181,10.05.2024100325\n",
      "\n"
     ]
    }
   ],
   "source": [
    "oscilloscope_address = 'TCPIP0::192.168.1.36::inst0::INSTR'\n",
    "rm = visa.ResourceManager()\n",
    "print(rm.list_resources())\n",
    "oscilloscope = rm.open_resource(oscilloscope_address)\n",
    "print(oscilloscope.query('*IDN?'))\n",
    "oscilloscope.chunk_size = 1024 * 1024  # Set a larger chunk size (adjust as needed)"
   ]
  },
  {
   "cell_type": "code",
   "execution_count": 11,
   "metadata": {},
   "outputs": [
    {
     "name": "stdout",
     "output_type": "stream",
     "text": [
      "KEYSIGHT TECHNOLOGIES,HD304MSO,MY64280181,10.05.2024100325\n",
      "\n",
      "1\n",
      "\n",
      "Memory depth: 1000000\n",
      "Sampling rate set: 10000.0 kHz\n",
      "Sampling rate: 10000.0 kHz\n"
     ]
    }
   ],
   "source": [
    "# Dedault oscilloscope keysight\n",
    "sampling_time = 0.1#s\n",
    "memory_depth = \"1000000\"\n",
    "oscilloscope_address = 'TCPIP0::192.168.1.36::inst0::INSTR'\n",
    "rm = visa.ResourceManager()\n",
    "oscilloscope = rm.open_resource(oscilloscope_address)\n",
    "print(oscilloscope.query('*IDN?'))\n",
    "oscilloscope.chunk_size = 1024 * 1024\n",
    "time.sleep(1)\n",
    "oscilloscope.write(f':ACQuire:DIGitizer 1')\n",
    "print(oscilloscope.query(':ACQuire:DIGitizer?'))\n",
    "oscilloscope.write(f':ACQ:POINts {memory_depth}')\n",
    "memory_depth1= int(float(oscilloscope.query(':ACQuire:POINts?')))\n",
    "print(f'Memory depth: {memory_depth1}')\n",
    "sampling_rate1 = memory_depth1/sampling_time\n",
    "print(f'Sampling rate set: {sampling_rate1/1000} kHz')\n",
    "oscilloscope.write(f':ACQuire:SRATe {sampling_rate1}')#sampling_rate\n",
    "time.sleep(1)\n",
    "oscilloscope.write(f':TIMebase:MAIN:SCALe {sampling_time/10}')\n",
    "oscilloscope.write(f':TIMebase:MAIN:POSition {sampling_time/2}')\n",
    "# oscilloscope.write(':SINGle')\n",
    "oscilloscope.write(':DIGitize')\n",
    "\n",
    "# oscilloscope.close()\n",
    "\n",
    "sampling_rate = int(float(oscilloscope.query(':ACQuire:SRATe:ANALog?')))\n",
    "print(f'Sampling rate: {sampling_rate/1000} kHz')"
   ]
  },
  {
   "cell_type": "code",
   "execution_count": 25,
   "metadata": {},
   "outputs": [
    {
     "name": "stdout",
     "output_type": "stream",
     "text": [
      "+1.60E+00\n",
      "\n",
      "WORD\n",
      "\n"
     ]
    }
   ],
   "source": [
    " # Set up the oscilloscope\n",
    "memory_depth='1000000'\n",
    "oscilloscope.write(f':ACQ:POINts {memory_depth}')  # Set the memory depth\n",
    "time.sleep(1)\n",
    "# oscilloscope.write('channel1:PROBe 10')# probe attenuation set to 10\n",
    "# oscilloscope.write('channel1:range 16')#Vertical \n",
    "print(oscilloscope.query('channel1:range?'))#Vertical\n",
    "yrange = oscilloscope.query('channel1:range?')\n",
    "# oscilloscope.write('channel1:offset 1.00')#center of screen \n",
    "# oscilloscope.write('timebase:mode main')#\n",
    "# oscilloscope.write('timebase:range 1')# time base at x full-scale \n",
    "# oscilloscope.write('timebase:delay 0')#\n",
    "# oscilloscope.write('acquire:type average') #<type> ::= {NORMal | AVERage | PEAK}\n",
    "# oscilloscope.write('acquire:complete 100')\n",
    "# oscilloscope.write('acquire:count 8')\n",
    "# oscilloscope.write('digitize:channel1')\n",
    "# oscilloscope.write('waveform:source channel1')\n",
    "# print(oscilloscope.write('waveform:format byte'))\n",
    "# oscilloscope.write(':WAV:FORM ASCii')  # Set waveform format to {WORD|BYTE|ASCii}\n",
    "oscilloscope.write('waveform:format word')\n",
    "oscilloscope.write('waveform:points:mode raw')\n",
    "print(oscilloscope.query(':WAVeform:FORMat?'))"
   ]
  },
  {
   "cell_type": "code",
   "execution_count": 29,
   "metadata": {},
   "outputs": [
    {
     "name": "stdout",
     "output_type": "stream",
     "text": [
      "+5.000000000000E+00\n",
      "\n"
     ]
    }
   ],
   "source": [
    "print(oscilloscope.query(':TIMebase:MAIN:POSition?'))"
   ]
  },
  {
   "cell_type": "code",
   "execution_count": 12,
   "metadata": {},
   "outputs": [],
   "source": [
    "oscilloscope.timeout = 30000"
   ]
  },
  {
   "cell_type": "code",
   "execution_count": 13,
   "metadata": {},
   "outputs": [
    {
     "name": "stdout",
     "output_type": "stream",
     "text": [
      "['+0', '+0', '+62500', '+1', '+1.60000000E-06', '-1.90074193E-18', '+0', '+1.25000002E-02', '+4.93699998E-01', '+128\\n']\n"
     ]
    }
   ],
   "source": [
    "channels=1\n",
    "time_colume=True\n",
    "file_name=None\n",
    "preamble = oscilloscope.query(':WAV:PRE?').split(',')\n",
    "print(preamble)\n",
    "num_samples = int(preamble[2])\n",
    "time_per_sample = float(preamble[4])\n",
    "x_origin = float(preamble[5])\n",
    "if time_colume:\n",
    "        time_array = np.array([x_origin + i * time_per_sample for i in range(num_samples)])\n",
    "        waveform_data = [time_array]\n",
    "else:\n",
    "        waveform_data = []"
   ]
  },
  {
   "cell_type": "code",
   "execution_count": 14,
   "metadata": {},
   "outputs": [],
   "source": [
    "oscilloscope.timeout = 30000"
   ]
  },
  {
   "cell_type": "code",
   "execution_count": 15,
   "metadata": {},
   "outputs": [
    {
     "name": "stdout",
     "output_type": "stream",
     "text": [
      "17\n",
      "CHAN1\n",
      "\n",
      "1\n",
      "\n",
      "LSBF\n",
      "\n",
      "BYTE\n",
      "\n"
     ]
    }
   ],
   "source": [
    "print(oscilloscope.write(':WAV:SOUR CHAN1'))\n",
    "print(oscilloscope.query(':WAV:SOUR?'))\n",
    "print(oscilloscope.query(':WAVeform:UNSigned?'))\n",
    "oscilloscope.write(':WAVeform:BYTeorder LSBFirst')\n",
    "print(oscilloscope.query(':WAVeform:BYTeorder?'))\n",
    "print(oscilloscope.query(':WAVeform:FORMat?'))\n",
    "\n",
    "# print(oscilloscope.query(':WAV:DATA?'))\n",
    "# result = oscilloscope.query_binary_values('WAV:DATA?', datatype='s', container=bytes)\n",
    "# 1225\n",
    "# oscilloscope.query_binary_values(':WAV:DATA?', datatype='B', container=np.array)\n",
    "# waveform_raw = oscilloscope.query_binary_values(':WAV:DATA?', datatype='B', container=np.array)"
   ]
  },
  {
   "cell_type": "code",
   "execution_count": 18,
   "metadata": {},
   "outputs": [
    {
     "name": "stdout",
     "output_type": "stream",
     "text": [
      "Getting data from Channel 1...\n",
      "Voltage scale: 0.0125000002\n",
      "Voltage offset: 0.493699998\n",
      "Y reference: 128.0\n"
     ]
    }
   ],
   "source": [
    "# Retrieve waveform data from each channel\n",
    "# for channel in channels:\n",
    "channel1=1\n",
    "print(f\"Getting data from Channel {channel1}...\")\n",
    "oscilloscope.write(f':WAV:SOUR CHAN{channel1}')  # Set source of the waveform\n",
    "waveform_raw = oscilloscope.query_binary_values(':waveform:data?', datatype='H', container=np.array)  # Retrieve binary waveform data\n",
    "# waveform_raw = oscilloscope.query_binary_values(':waveform:data?', container=np.array) \n",
    "preamble = oscilloscope.query(':WAV:PRE?').split(',')\n",
    "volt_scale = float(preamble[7])\n",
    "volt_offset = float(preamble[8])\n",
    "y_reference = float(preamble[9])\n",
    "# Yi = oscilloscope.query(':WAVeform:YINCrement?')\n",
    "# print(f\"Yi: {Yi}\")\n",
    "# yscale = volt_scale/4\n",
    "# print(f\"Ys: {yscale}\")\n",
    "# ys = float(yrange)/(y_reference- 0.5)/2\n",
    "# print(f\"Ys: {ys}\")\n",
    "print(f\"Voltage scale: {volt_scale}\")\n",
    "print(f\"Voltage offset: {volt_offset}\") \n",
    "print(f\"Y reference: {y_reference}\")\n",
    "# waveform_voltage = (waveform_raw.astype(float) - y_reference) * ys + volt_offset\n",
    "waveform_voltage = (waveform_raw.astype(float) - y_reference) * volt_scale + volt_offset\n",
    "# waveform_voltage = waveform_raw.astype(float)\n",
    "waveform_data.append(waveform_voltage)"
   ]
  },
  {
   "cell_type": "code",
   "execution_count": 20,
   "metadata": {},
   "outputs": [
    {
     "name": "stdout",
     "output_type": "stream",
     "text": [
      "Sampling rate: 10000.0 kHz\n"
     ]
    },
    {
     "ename": "ValueError",
     "evalue": "x and y must have same first dimension, but have shapes (62500,) and (31250,)",
     "output_type": "error",
     "traceback": [
      "\u001b[1;31m---------------------------------------------------------------------------\u001b[0m",
      "\u001b[1;31mValueError\u001b[0m                                Traceback (most recent call last)",
      "Cell \u001b[1;32mIn[20], line 6\u001b[0m\n\u001b[0;32m      4\u001b[0m yref \u001b[38;5;241m=\u001b[39m \u001b[38;5;241m-\u001b[39m\u001b[38;5;241m70\u001b[39m\n\u001b[0;32m      5\u001b[0m plt\u001b[38;5;241m.\u001b[39mfigure(figsize\u001b[38;5;241m=\u001b[39m(\u001b[38;5;241m10\u001b[39m, \u001b[38;5;241m6\u001b[39m))\n\u001b[1;32m----> 6\u001b[0m \u001b[43mplt\u001b[49m\u001b[38;5;241;43m.\u001b[39;49m\u001b[43mplot\u001b[49m\u001b[43m(\u001b[49m\u001b[43mtime_array\u001b[49m\u001b[43m,\u001b[49m\u001b[43m \u001b[49m\u001b[43mwaveform_voltage\u001b[49m\u001b[43m,\u001b[49m\u001b[43m \u001b[49m\u001b[43mlabel\u001b[49m\u001b[38;5;241;43m=\u001b[39;49m\u001b[38;5;124;43m'\u001b[39;49m\u001b[38;5;124;43mrigol1\u001b[39;49m\u001b[38;5;124;43m'\u001b[39;49m\u001b[43m)\u001b[49m\n\u001b[0;32m      7\u001b[0m plt\u001b[38;5;241m.\u001b[39mtitle(\u001b[38;5;124m'\u001b[39m\u001b[38;5;124mPower Spectral Estimation\u001b[39m\u001b[38;5;124m'\u001b[39m)\n\u001b[0;32m      8\u001b[0m plt\u001b[38;5;241m.\u001b[39mxlabel(\u001b[38;5;124m'\u001b[39m\u001b[38;5;124mFrequency (Hz)\u001b[39m\u001b[38;5;124m'\u001b[39m)\n",
      "File \u001b[1;32mc:\\Users\\rinu2\\Documents\\kichi@git\\python-learning\\DataAE\\.venv\\Lib\\site-packages\\matplotlib\\pyplot.py:3590\u001b[0m, in \u001b[0;36mplot\u001b[1;34m(scalex, scaley, data, *args, **kwargs)\u001b[0m\n\u001b[0;32m   3582\u001b[0m \u001b[38;5;129m@_copy_docstring_and_deprecators\u001b[39m(Axes\u001b[38;5;241m.\u001b[39mplot)\n\u001b[0;32m   3583\u001b[0m \u001b[38;5;28;01mdef\u001b[39;00m \u001b[38;5;21mplot\u001b[39m(\n\u001b[0;32m   3584\u001b[0m     \u001b[38;5;241m*\u001b[39margs: \u001b[38;5;28mfloat\u001b[39m \u001b[38;5;241m|\u001b[39m ArrayLike \u001b[38;5;241m|\u001b[39m \u001b[38;5;28mstr\u001b[39m,\n\u001b[1;32m   (...)\u001b[0m\n\u001b[0;32m   3588\u001b[0m     \u001b[38;5;241m*\u001b[39m\u001b[38;5;241m*\u001b[39mkwargs,\n\u001b[0;32m   3589\u001b[0m ) \u001b[38;5;241m-\u001b[39m\u001b[38;5;241m>\u001b[39m \u001b[38;5;28mlist\u001b[39m[Line2D]:\n\u001b[1;32m-> 3590\u001b[0m     \u001b[38;5;28;01mreturn\u001b[39;00m \u001b[43mgca\u001b[49m\u001b[43m(\u001b[49m\u001b[43m)\u001b[49m\u001b[38;5;241;43m.\u001b[39;49m\u001b[43mplot\u001b[49m\u001b[43m(\u001b[49m\n\u001b[0;32m   3591\u001b[0m \u001b[43m        \u001b[49m\u001b[38;5;241;43m*\u001b[39;49m\u001b[43margs\u001b[49m\u001b[43m,\u001b[49m\n\u001b[0;32m   3592\u001b[0m \u001b[43m        \u001b[49m\u001b[43mscalex\u001b[49m\u001b[38;5;241;43m=\u001b[39;49m\u001b[43mscalex\u001b[49m\u001b[43m,\u001b[49m\n\u001b[0;32m   3593\u001b[0m \u001b[43m        \u001b[49m\u001b[43mscaley\u001b[49m\u001b[38;5;241;43m=\u001b[39;49m\u001b[43mscaley\u001b[49m\u001b[43m,\u001b[49m\n\u001b[0;32m   3594\u001b[0m \u001b[43m        \u001b[49m\u001b[38;5;241;43m*\u001b[39;49m\u001b[38;5;241;43m*\u001b[39;49m\u001b[43m(\u001b[49m\u001b[43m{\u001b[49m\u001b[38;5;124;43m\"\u001b[39;49m\u001b[38;5;124;43mdata\u001b[39;49m\u001b[38;5;124;43m\"\u001b[39;49m\u001b[43m:\u001b[49m\u001b[43m \u001b[49m\u001b[43mdata\u001b[49m\u001b[43m}\u001b[49m\u001b[43m \u001b[49m\u001b[38;5;28;43;01mif\u001b[39;49;00m\u001b[43m \u001b[49m\u001b[43mdata\u001b[49m\u001b[43m \u001b[49m\u001b[38;5;129;43;01mis\u001b[39;49;00m\u001b[43m \u001b[49m\u001b[38;5;129;43;01mnot\u001b[39;49;00m\u001b[43m \u001b[49m\u001b[38;5;28;43;01mNone\u001b[39;49;00m\u001b[43m \u001b[49m\u001b[38;5;28;43;01melse\u001b[39;49;00m\u001b[43m \u001b[49m\u001b[43m{\u001b[49m\u001b[43m}\u001b[49m\u001b[43m)\u001b[49m\u001b[43m,\u001b[49m\n\u001b[0;32m   3595\u001b[0m \u001b[43m        \u001b[49m\u001b[38;5;241;43m*\u001b[39;49m\u001b[38;5;241;43m*\u001b[39;49m\u001b[43mkwargs\u001b[49m\u001b[43m,\u001b[49m\n\u001b[0;32m   3596\u001b[0m \u001b[43m    \u001b[49m\u001b[43m)\u001b[49m\n",
      "File \u001b[1;32mc:\\Users\\rinu2\\Documents\\kichi@git\\python-learning\\DataAE\\.venv\\Lib\\site-packages\\matplotlib\\axes\\_axes.py:1724\u001b[0m, in \u001b[0;36mAxes.plot\u001b[1;34m(self, scalex, scaley, data, *args, **kwargs)\u001b[0m\n\u001b[0;32m   1481\u001b[0m \u001b[38;5;250m\u001b[39m\u001b[38;5;124;03m\"\"\"\u001b[39;00m\n\u001b[0;32m   1482\u001b[0m \u001b[38;5;124;03mPlot y versus x as lines and/or markers.\u001b[39;00m\n\u001b[0;32m   1483\u001b[0m \n\u001b[1;32m   (...)\u001b[0m\n\u001b[0;32m   1721\u001b[0m \u001b[38;5;124;03m(``'green'``) or hex strings (``'#008000'``).\u001b[39;00m\n\u001b[0;32m   1722\u001b[0m \u001b[38;5;124;03m\"\"\"\u001b[39;00m\n\u001b[0;32m   1723\u001b[0m kwargs \u001b[38;5;241m=\u001b[39m cbook\u001b[38;5;241m.\u001b[39mnormalize_kwargs(kwargs, mlines\u001b[38;5;241m.\u001b[39mLine2D)\n\u001b[1;32m-> 1724\u001b[0m lines \u001b[38;5;241m=\u001b[39m [\u001b[38;5;241m*\u001b[39m\u001b[38;5;28mself\u001b[39m\u001b[38;5;241m.\u001b[39m_get_lines(\u001b[38;5;28mself\u001b[39m, \u001b[38;5;241m*\u001b[39margs, data\u001b[38;5;241m=\u001b[39mdata, \u001b[38;5;241m*\u001b[39m\u001b[38;5;241m*\u001b[39mkwargs)]\n\u001b[0;32m   1725\u001b[0m \u001b[38;5;28;01mfor\u001b[39;00m line \u001b[38;5;129;01min\u001b[39;00m lines:\n\u001b[0;32m   1726\u001b[0m     \u001b[38;5;28mself\u001b[39m\u001b[38;5;241m.\u001b[39madd_line(line)\n",
      "File \u001b[1;32mc:\\Users\\rinu2\\Documents\\kichi@git\\python-learning\\DataAE\\.venv\\Lib\\site-packages\\matplotlib\\axes\\_base.py:303\u001b[0m, in \u001b[0;36m_process_plot_var_args.__call__\u001b[1;34m(self, axes, data, *args, **kwargs)\u001b[0m\n\u001b[0;32m    301\u001b[0m     this \u001b[38;5;241m+\u001b[39m\u001b[38;5;241m=\u001b[39m args[\u001b[38;5;241m0\u001b[39m],\n\u001b[0;32m    302\u001b[0m     args \u001b[38;5;241m=\u001b[39m args[\u001b[38;5;241m1\u001b[39m:]\n\u001b[1;32m--> 303\u001b[0m \u001b[38;5;28;01myield from\u001b[39;00m \u001b[38;5;28;43mself\u001b[39;49m\u001b[38;5;241;43m.\u001b[39;49m\u001b[43m_plot_args\u001b[49m\u001b[43m(\u001b[49m\n\u001b[0;32m    304\u001b[0m \u001b[43m    \u001b[49m\u001b[43maxes\u001b[49m\u001b[43m,\u001b[49m\u001b[43m \u001b[49m\u001b[43mthis\u001b[49m\u001b[43m,\u001b[49m\u001b[43m \u001b[49m\u001b[43mkwargs\u001b[49m\u001b[43m,\u001b[49m\u001b[43m \u001b[49m\u001b[43mambiguous_fmt_datakey\u001b[49m\u001b[38;5;241;43m=\u001b[39;49m\u001b[43mambiguous_fmt_datakey\u001b[49m\u001b[43m)\u001b[49m\n",
      "File \u001b[1;32mc:\\Users\\rinu2\\Documents\\kichi@git\\python-learning\\DataAE\\.venv\\Lib\\site-packages\\matplotlib\\axes\\_base.py:499\u001b[0m, in \u001b[0;36m_process_plot_var_args._plot_args\u001b[1;34m(self, axes, tup, kwargs, return_kwargs, ambiguous_fmt_datakey)\u001b[0m\n\u001b[0;32m    496\u001b[0m     axes\u001b[38;5;241m.\u001b[39myaxis\u001b[38;5;241m.\u001b[39mupdate_units(y)\n\u001b[0;32m    498\u001b[0m \u001b[38;5;28;01mif\u001b[39;00m x\u001b[38;5;241m.\u001b[39mshape[\u001b[38;5;241m0\u001b[39m] \u001b[38;5;241m!=\u001b[39m y\u001b[38;5;241m.\u001b[39mshape[\u001b[38;5;241m0\u001b[39m]:\n\u001b[1;32m--> 499\u001b[0m     \u001b[38;5;28;01mraise\u001b[39;00m \u001b[38;5;167;01mValueError\u001b[39;00m(\u001b[38;5;124mf\u001b[39m\u001b[38;5;124m\"\u001b[39m\u001b[38;5;124mx and y must have same first dimension, but \u001b[39m\u001b[38;5;124m\"\u001b[39m\n\u001b[0;32m    500\u001b[0m                      \u001b[38;5;124mf\u001b[39m\u001b[38;5;124m\"\u001b[39m\u001b[38;5;124mhave shapes \u001b[39m\u001b[38;5;132;01m{\u001b[39;00mx\u001b[38;5;241m.\u001b[39mshape\u001b[38;5;132;01m}\u001b[39;00m\u001b[38;5;124m and \u001b[39m\u001b[38;5;132;01m{\u001b[39;00my\u001b[38;5;241m.\u001b[39mshape\u001b[38;5;132;01m}\u001b[39;00m\u001b[38;5;124m\"\u001b[39m)\n\u001b[0;32m    501\u001b[0m \u001b[38;5;28;01mif\u001b[39;00m x\u001b[38;5;241m.\u001b[39mndim \u001b[38;5;241m>\u001b[39m \u001b[38;5;241m2\u001b[39m \u001b[38;5;129;01mor\u001b[39;00m y\u001b[38;5;241m.\u001b[39mndim \u001b[38;5;241m>\u001b[39m \u001b[38;5;241m2\u001b[39m:\n\u001b[0;32m    502\u001b[0m     \u001b[38;5;28;01mraise\u001b[39;00m \u001b[38;5;167;01mValueError\u001b[39;00m(\u001b[38;5;124mf\u001b[39m\u001b[38;5;124m\"\u001b[39m\u001b[38;5;124mx and y can be no greater than 2D, but have \u001b[39m\u001b[38;5;124m\"\u001b[39m\n\u001b[0;32m    503\u001b[0m                      \u001b[38;5;124mf\u001b[39m\u001b[38;5;124m\"\u001b[39m\u001b[38;5;124mshapes \u001b[39m\u001b[38;5;132;01m{\u001b[39;00mx\u001b[38;5;241m.\u001b[39mshape\u001b[38;5;132;01m}\u001b[39;00m\u001b[38;5;124m and \u001b[39m\u001b[38;5;132;01m{\u001b[39;00my\u001b[38;5;241m.\u001b[39mshape\u001b[38;5;132;01m}\u001b[39;00m\u001b[38;5;124m\"\u001b[39m)\n",
      "\u001b[1;31mValueError\u001b[0m: x and y must have same first dimension, but have shapes (62500,) and (31250,)"
     ]
    },
    {
     "data": {
      "image/png": "[encoded data removed]",
      "text/plain": [
       "<Figure size 1000x600 with 1 Axes>"
      ]
     },
     "metadata": {},
     "output_type": "display_data"
    }
   ],
   "source": [
    "# Plot\n",
    "print(f'Sampling rate: {sampling_rate/1000} kHz')\n",
    "yrange = 60\n",
    "yref = -70\n",
    "plt.figure(figsize=(10, 6))\n",
    "plt.plot(time_array, waveform_voltage, label='rigol1')\n",
    "plt.title('Power Spectral Estimation')\n",
    "plt.xlabel('Frequency (Hz)')\n",
    "plt.ylabel('Power (dBm)')\n",
    "plt.xlim(0,500)\n",
    "plt.ylim(yref-yrange/2, yref+yrange/2)\n",
    "plt.legend()\n",
    "plt.grid(True)\n",
    "plt.show()"
   ]
  },
  {
   "cell_type": "code",
   "execution_count": null,
   "metadata": {},
   "outputs": [],
   "source": []
  },
  {
   "cell_type": "code",
   "execution_count": null,
   "metadata": {},
   "outputs": [],
   "source": [
    "if file_name:\n",
    "        # Save the screenshot\n",
    "        print('Saving screenshot...')\n",
    "        oscilloscope.write(':SAVE:IMAGe:FORM BMP')\n",
    "        save_path = f'D:\\\\{file_name}.bmp' \n",
    "        oscilloscope.write(f':SAVE:IMAGe {save_path}')\n",
    "        print(f'Screenshot saved to {save_path}')\n",
    "        # oscilloscope.write(f':SAVE:IMAGe D:\\{file_name}.tiff')\n",
    "        # choose a folder to save the data\n",
    "        root = tk.Tk()\n",
    "        root.withdraw()  # hide the root window\n",
    "        folder_path = filedialog.askdirectory()\n",
    "        # Save waveform data to a CSV file\n",
    "        print('Writing CSV...')\n",
    "        BUFFER_SIZE = 1000000  # Adjust the buffer size as needed\n",
    "        with open(f'{folder_path}/{file_name}_.csv', 'w', newline='') as csvfile:\n",
    "            writer = csv.writer(csvfile)\n",
    "            if time_colume:\n",
    "                writer.writerow(['Time'] + [f'Channel {channel}' for channel in channels])  # Write header\n",
    "            else:\n",
    "                writer.writerow([f'Channel {channel}' for channel in channels])\n",
    "            for row in zip(*waveform_data):  # Transpose and write\n",
    "                writer.writerow(row)\n",
    "        print('CSV writing Done')\n",
    "\n",
    "\n",
    "\n",
    "\n",
    "    # Disconnect from the oscilloscope\n",
    "    # oscilloscope.write(':RUN')\n",
    "    # oscilloscope.close()\n",
    "print('OSC operation Done\\n')\n"
   ]
  },
  {
   "cell_type": "code",
   "execution_count": null,
   "metadata": {},
   "outputs": [],
   "source": [
    "if __name__ == '__main__':\n",
    "    oscilloscope_address = 'TCPIP0::192.168.1.36::inst0::INSTR'\n",
    "    rm = visa.ResourceManager()\n",
    "    print(rm.list_resources())\n",
    "    oscilloscope = rm.open_resource(oscilloscope_address)\n",
    "    print(oscilloscope.query('*IDN?'))  # Query the identification string of the oscilloscope\n",
    "    oscilloscope.write(':CHANnel1:COUPling DC')\n",
    "    # print(oscilloscope.query(':SOURce1:FUNCtion:SHApe?'))\n",
    "    oscilloscope.write(':CHANnel1:OFFSet 0.5')"
   ]
  },
  {
   "cell_type": "code",
   "execution_count": null,
   "metadata": {},
   "outputs": [],
   "source": [
    "import os\n",
    "import numpy as np\n",
    "import struct\n",
    " \n",
    " \n",
    "def get_depth_img(file_path):\n",
    "    \"\"\"\n",
    "    获取深度图中心10*10平均距离\n",
    "    :param file_path: 深度图目录\n",
    "    :return: 深度距离\n",
    "    \"\"\"\n",
    "    file_long = os.path.getsize(file_path)  # 获取文件中二进制字符长度\n",
    "    with open(file_path, \"rb\") as f:\n",
    "        data = []\n",
    "        width = bin2int(f.read(2))[0]  # 获取图片分辨率(宽、高)\n",
    "        height = bin2int(f.read(2))[0]\n",
    " \n",
    "        for i in range(1, file_long - 4, 2):\n",
    "            data.append(bin2int(f.read(2)))\n",
    " \n",
    "        data = np.array(data)\n",
    "        data = data.reshape(width, height)  # 将数据整合为二维数组格式\n",
    " \n",
    "        h1 = int(((width - 10) / 2) - 1)\n",
    "        h2 = int(h1 + 10)\n",
    "        w1 = int(((height - 10) / 2) - 1)\n",
    "        w2 = int(w1 + 10)\n",
    "        data = data[h1: h2, w1: w2]  # 获取图片中心10*10数据\n",
    "        mean_data = np.mean(data)  # 将中心数据取平均\n",
    "        return mean_data\n",
    " \n",
    " \n",
    "def bin2int(bin_data):\n",
    "    \"\"\"\n",
    "    将二进制字符转换为int字符\n",
    "    :param bin_data: 二进制字符\n",
    "    :return:int字符\n",
    "    \"\"\"\n",
    "    int_data = struct.unpack('H', bin_data)\n",
    "    return int_data\n",
    " \n",
    " \n",
    "if __name__ == '__main__':\n",
    "    mean_depth = get_depth_img(\"G:\\PYTHON1\\\\bin\\\\abc.bin\")\n",
    "    print(mean_depth)"
   ]
  }
 ],
 "metadata": {
  "kernelspec": {
   "display_name": ".venv",
   "language": "python",
   "name": "python3"
  },
  "language_info": {
   "codemirror_mode": {
    "name": "ipython",
    "version": 3
   },
   "file_extension": ".py",
   "mimetype": "text/x-python",
   "name": "python",
   "nbconvert_exporter": "python",
   "pygments_lexer": "ipython3",
   "version": "3.11.3"
  }
 },
 "nbformat": 4,
 "nbformat_minor": 2
}
