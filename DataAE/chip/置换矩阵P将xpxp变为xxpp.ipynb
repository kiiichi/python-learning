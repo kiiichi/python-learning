{
 "cells": [
  {
   "cell_type": "code",
   "execution_count": 1,
   "metadata": {},
   "outputs": [],
   "source": [
    "import numpy as np"
   ]
  },
  {
   "cell_type": "code",
   "execution_count": 2,
   "metadata": {},
   "outputs": [
    {
     "name": "stdout",
     "output_type": "stream",
     "text": [
      "[[1. 0. 0. 0. 0. 0. 0. 0.]\n",
      " [0. 0. 1. 0. 0. 0. 0. 0.]\n",
      " [0. 0. 0. 0. 1. 0. 0. 0.]\n",
      " [0. 0. 0. 0. 0. 0. 1. 0.]\n",
      " [0. 1. 0. 0. 0. 0. 0. 0.]\n",
      " [0. 0. 0. 1. 0. 0. 0. 0.]\n",
      " [0. 0. 0. 0. 0. 1. 0. 0.]\n",
      " [0. 0. 0. 0. 0. 0. 0. 1.]]\n"
     ]
    }
   ],
   "source": [
    "def permutation_matrix(N):\n",
    "    \"\"\"\n",
    "    生成 2N x 2N 的置换矩阵 P，\n",
    "    用于将变量排序从 (xpxp) 变换为 (xxpp)。\n",
    "    \n",
    "    参数:\n",
    "    N -- 量子模式的数量 (系统的维度)\n",
    "    \n",
    "    返回:\n",
    "    P -- 置换矩阵 (2N x 2N)\n",
    "    \"\"\"\n",
    "    P = np.zeros((2*N, 2*N))  # 创建 2N x 2N 的零矩阵\n",
    "\n",
    "    for i in range(N):\n",
    "        P[i, 2*i] = 1       # x_i 位置: 第 i 行从 2i 取值\n",
    "        P[N + i, 2*i + 1] = 1  # p_i 位置: 第 (N+i) 行从 (2i+1) 取值\n",
    "\n",
    "    return P\n",
    "\n",
    "# 测试\n",
    "N = 4  # 例如 3 维系统\n",
    "P = permutation_matrix(N)\n",
    "print(P)\n"
   ]
  },
  {
   "cell_type": "code",
   "execution_count": 2,
   "metadata": {},
   "outputs": [
    {
     "name": "stdout",
     "output_type": "stream",
     "text": [
      "辛特征值: [1.41421356 1.41421356]\n"
     ]
    }
   ],
   "source": [
    "def symplectic_eigenvalues(M):\n",
    "    n = M.shape[0] // 2\n",
    "    J = np.block([[np.zeros((n, n)), np.eye(n)], [-np.eye(n), np.zeros((n, n))]])\n",
    "    JM = J @ M\n",
    "    eigenvalues = np.linalg.eigvals(JM)\n",
    "    return np.sort(np.abs(eigenvalues))[:n]  # 取前 n 个非负辛特征值\n",
    "\n",
    "# 示例矩阵（对称矩阵）\n",
    "M = np.array([[2, 1, 0, 0],\n",
    "              [1, 2, 0, 0],\n",
    "              [0, 0, 3, 1],\n",
    "              [0, 0, 1, 3]])\n",
    "\n",
    "symplectic_eigs = symplectic_eigenvalues(M)\n",
    "print(\"辛特征值:\", symplectic_eigs)\n"
   ]
  }
 ],
 "metadata": {
  "kernelspec": {
   "display_name": ".venv",
   "language": "python",
   "name": "python3"
  },
  "language_info": {
   "codemirror_mode": {
    "name": "ipython",
    "version": 3
   },
   "file_extension": ".py",
   "mimetype": "text/x-python",
   "name": "python",
   "nbconvert_exporter": "python",
   "pygments_lexer": "ipython3",
   "version": "3.11.0"
  }
 },
 "nbformat": 4,
 "nbformat_minor": 2
}
